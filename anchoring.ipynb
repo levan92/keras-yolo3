{
 "cells": [
  {
   "cell_type": "code",
   "execution_count": 1,
   "metadata": {},
   "outputs": [],
   "source": [
    "import numpy as np"
   ]
  },
  {
   "cell_type": "code",
   "execution_count": 2,
   "metadata": {},
   "outputs": [],
   "source": [
    "def iou(box, clusters):\n",
    "    x = np.minimum(clusters[:, 0], box[0])\n",
    "    y = np.minimum(clusters[:, 1], box[1])\n",
    "\n",
    "    intersection = x * y\n",
    "    box_area = box[0] * box[1]\n",
    "    cluster_area = clusters[:, 0] * clusters[:, 1]\n",
    "\n",
    "    iou_ = intersection / (box_area + cluster_area - intersection)\n",
    "\n",
    "    return iou_"
   ]
  },
  {
   "cell_type": "code",
   "execution_count": 3,
   "metadata": {},
   "outputs": [],
   "source": [
    "def kmeans(boxes, k, dist=np.median):\n",
    "    rows = boxes.shape[0]\n",
    "\n",
    "    distances = np.empty((rows, k))\n",
    "    last_clusters = np.zeros((rows,))\n",
    "\n",
    "    np.random.seed()\n",
    "\n",
    "    clusters = boxes[np.random.choice(rows, k, replace=False)]\n",
    "\n",
    "    while True:\n",
    "        for row in range(rows):\n",
    "            distances[row] = 1 - iou(boxes[row], clusters)\n",
    "\n",
    "        nearest_clusters = np.argmin(distances, axis=1)\n",
    "\n",
    "        if (last_clusters == nearest_clusters).all():\n",
    "            break\n",
    "\n",
    "        for cluster in range(k):\n",
    "            clusters[cluster] = dist(boxes[nearest_clusters == cluster], axis=0)\n",
    "\n",
    "        last_clusters = nearest_clusters\n",
    "\n",
    "    return clusters"
   ]
  },
  {
   "cell_type": "code",
   "execution_count": 80,
   "metadata": {},
   "outputs": [
    {
     "name": "stdout",
     "output_type": "stream",
     "text": [
      "VIS_Onboard_annot_contexted.txt: 63\n",
      "VIS_Onshore_annot_contexted.txt: 612\n",
      "NIR_annot_contexted.txt: 385\n",
      "trainval_contexted.txt: 3500\n"
     ]
    }
   ],
   "source": [
    "import os\n",
    "annot_fps = [\n",
    "'/media/dh/Data/SGMaritimeDataset/VIS_Onboard_annot_contexted.txt',\n",
    "'/media/dh/Data/SGMaritimeDataset/VIS_Onshore_annot_contexted.txt',\n",
    "'/media/dh/Data/SGMaritimeDataset/NIR_annot_contexted.txt',\n",
    "'/media/dh/Data/SeaShips(7000)/trainval_contexted.txt'\n",
    "            ]\n",
    "lines = []\n",
    "for fp in annot_fps:\n",
    "    assert os.path.exists(fp)\n",
    "    with open (fp,'r') as f:\n",
    "        this_lines = f.readlines()\n",
    "        lines.extend(this_lines)\n",
    "    print('{}: {}'.format(os.path.basename(fp), len(this_lines)))"
   ]
  },
  {
   "cell_type": "code",
   "execution_count": 71,
   "metadata": {},
   "outputs": [],
   "source": [
    "from PIL import Image"
   ]
  },
  {
   "cell_type": "code",
   "execution_count": 72,
   "metadata": {},
   "outputs": [
    {
     "data": {
      "text/plain": [
       "(11479, 2)"
      ]
     },
     "execution_count": 72,
     "metadata": {},
     "output_type": "execute_result"
    }
   ],
   "source": [
    "all_bbs = []\n",
    "for line in lines:\n",
    "    split = line.strip().replace(';','').split()\n",
    "    img_path = split[0]\n",
    "    assert os.path.exists(img_path)\n",
    "    im = Image.open(img_path)\n",
    "    iw, ih = im.size\n",
    "    bbs = split[1:]\n",
    "    #x_min,y_min,x_max,y_max,class_id\n",
    "    for bb in bbs:\n",
    "        x_min, y_min, x_max, y_max, class_id = [int(x) for x in bb.split(',')]\n",
    "        w = x_max - x_min + 1\n",
    "        h = y_max - y_min + 1\n",
    "        nw = w/iw\n",
    "        nh = h/ih\n",
    "        all_bbs.append((nw,nh))\n",
    "all_bbs = np.array(all_bbs)\n",
    "all_bbs.shape"
   ]
  },
  {
   "cell_type": "code",
   "execution_count": 73,
   "metadata": {},
   "outputs": [
    {
     "data": {
      "text/plain": [
       "array([[0.1578125 , 0.06481481],\n",
       "       [0.0625    , 0.03518519],\n",
       "       [0.10104167, 0.0462963 ],\n",
       "       [0.26197917, 0.10462963],\n",
       "       [0.0203125 , 0.02222222],\n",
       "       [0.390625  , 0.17407407],\n",
       "       [0.05833333, 0.08425926],\n",
       "       [0.7       , 0.23055556],\n",
       "       [0.03125   , 0.04074074]])"
      ]
     },
     "execution_count": 73,
     "metadata": {},
     "output_type": "execute_result"
    }
   ],
   "source": [
    "anchors = kmeans(all_bbs, 9)\n",
    "anchors"
   ]
  },
  {
   "cell_type": "code",
   "execution_count": 74,
   "metadata": {},
   "outputs": [],
   "source": [
    "%matplotlib inline\n",
    "import matplotlib.pyplot as plt\n",
    "import cv2"
   ]
  },
  {
   "cell_type": "code",
   "execution_count": 75,
   "metadata": {},
   "outputs": [
    {
     "name": "stderr",
     "output_type": "stream",
     "text": [
      "Clipping input data to the valid range for imshow with RGB data ([0..1] for floats or [0..255] for integers).\n"
     ]
    },
    {
     "data": {
      "text/plain": [
       "True"
      ]
     },
     "execution_count": 75,
     "metadata": {},
     "output_type": "execute_result"
    },
    {
     "data": {
      "image/png": "[encoded data removed]",
      "text/plain": [
       "<Figure size 1440x1440 with 1 Axes>"
      ]
     },
     "metadata": {
      "needs_background": "light"
     },
     "output_type": "display_data"
    }
   ],
   "source": [
    "sketchboard = np.zeros((ih, iw, 3))\n",
    "\n",
    "zoom = 1\n",
    "for bb in anchors:\n",
    "    nw, nh = bb\n",
    "    w = nw * iw * zoom\n",
    "    h = nh * ih * zoom\n",
    "    mid_x = int(iw/2+1)\n",
    "    mid_y = int(ih/2+1)\n",
    "    x_min = mid_x - int(w/2-1)  \n",
    "    x_max = mid_x + int(w/2-1)  \n",
    "    y_min = mid_y - int(h/2-1)  \n",
    "    y_max = mid_y + int(h/2-1)  \n",
    "    cv2.rectangle(sketchboard, (x_min, y_min), (x_max, y_max), (255,255,255), thickness=1 )\n",
    "\n",
    "\n",
    "plt.figure(figsize = (20,20))\n",
    "plt.imshow(sketchboard)\n",
    "cv2.imwrite('anchor_viz.png',sketchboard)"
   ]
  },
  {
   "cell_type": "code",
   "execution_count": 76,
   "metadata": {},
   "outputs": [],
   "source": [
    "anchors_list = list(anchors)\n",
    "anchors_list.sort(key= lambda x: x[0]*x[1])"
   ]
  },
  {
   "cell_type": "code",
   "execution_count": 77,
   "metadata": {},
   "outputs": [
    {
     "data": {
      "text/plain": [
       "[[array([0.0203125 , 0.02222222]),\n",
       "  array([0.03125   , 0.04074074]),\n",
       "  array([0.0625    , 0.03518519])],\n",
       " [array([0.10104167, 0.0462963 ]),\n",
       "  array([0.05833333, 0.08425926]),\n",
       "  array([0.1578125 , 0.06481481])],\n",
       " [array([0.26197917, 0.10462963]),\n",
       "  array([0.390625  , 0.17407407]),\n",
       "  array([0.7       , 0.23055556])]]"
      ]
     },
     "execution_count": 77,
     "metadata": {},
     "output_type": "execute_result"
    }
   ],
   "source": [
    "n = 3\n",
    "anchors_scales = [anchors_list[i:i+n] for i in range(0, len(anchors_list), n)]\n",
    "anchors_scales"
   ]
  },
  {
   "cell_type": "code",
   "execution_count": 78,
   "metadata": {},
   "outputs": [
    {
     "name": "stderr",
     "output_type": "stream",
     "text": [
      "Clipping input data to the valid range for imshow with RGB data ([0..1] for floats or [0..255] for integers).\n"
     ]
    },
    {
     "data": {
      "text/plain": [
       "True"
      ]
     },
     "execution_count": 78,
     "metadata": {},
     "output_type": "execute_result"
    },
    {
     "data": {
      "image/png": "[encoded data removed]",
      "text/plain": [
       "<Figure size 1440x1440 with 1 Axes>"
      ]
     },
     "metadata": {
      "needs_background": "light"
     },
     "output_type": "display_data"
    }
   ],
   "source": [
    "import random\n",
    "\n",
    "ih, iw = 1080, 1920\n",
    "sketchboard2 = np.zeros((ih, iw, 3))\n",
    "zoom = 1\n",
    "colors = [ (218, 245, 66), (69,245,66), (173, 110, 240)]\n",
    "for i, anchors in enumerate(anchors_scales):\n",
    "#     color = (random.randint(100,255), random.randint(100,255), random.randint(100,255))\n",
    "    color = colors[i]\n",
    "    for bb in anchors:\n",
    "        nw, nh = bb\n",
    "        w = nw * iw * zoom\n",
    "        h = nh * ih * zoom\n",
    "        mid_x = int(iw/2+1)\n",
    "        mid_y = int(ih/2+1)\n",
    "        x_min = mid_x - int(w/2-1)  \n",
    "        x_max = mid_x + int(w/2-1)  \n",
    "        y_min = mid_y - int(h/2-1)  \n",
    "        y_max = mid_y + int(h/2-1)  \n",
    "        cv2.rectangle(sketchboard2, (x_min, y_min), (x_max, y_max), color, thickness=1 )\n",
    "\n",
    "\n",
    "plt.figure(figsize = (20,20))\n",
    "plt.imshow(sketchboard2)\n",
    "cv2.imwrite('anchor_viz_scales.png',sketchboard2)"
   ]
  },
  {
   "cell_type": "code",
   "execution_count": 87,
   "metadata": {},
   "outputs": [
    {
     "name": "stdout",
     "output_type": "stream",
     "text": [
      "[[array([0.0203125 , 0.02222222]), array([0.03125   , 0.04074074]), array([0.0625    , 0.03518519])], [array([0.10104167, 0.0462963 ]), array([0.05833333, 0.08425926]), array([0.1578125 , 0.06481481])], [array([0.26197917, 0.10462963]), array([0.390625  , 0.17407407]), array([0.7       , 0.23055556])]]\n",
      "[9, 9]\n",
      "[14, 18]\n",
      "[28, 15]\n",
      "[45, 20]\n",
      "[26, 37]\n",
      "[70, 29]\n",
      "[117, 46]\n",
      "[175, 77]\n",
      "[313, 103]\n"
     ]
    }
   ],
   "source": [
    "iw, ih = 448, 448\n",
    "\n",
    "print(anchors_scales)\n",
    "for anchors in anchors_scales:\n",
    "    for bb in anchors:\n",
    "        new_bb = [int(bb[0]*iw), int(bb[1]*ih)]\n",
    "        print(new_bb)"
   ]
  },
  {
   "cell_type": "code",
   "execution_count": null,
   "metadata": {},
   "outputs": [],
   "source": []
  }
 ],
 "metadata": {
  "kernelspec": {
   "display_name": "Python 3",
   "language": "python",
   "name": "python3"
  },
  "language_info": {
   "codemirror_mode": {
    "name": "ipython",
    "version": 3
   },
   "file_extension": ".py",
   "mimetype": "text/x-python",
   "name": "python",
   "nbconvert_exporter": "python",
   "pygments_lexer": "ipython3",
   "version": "3.5.2"
  }
 },
 "nbformat": 4,
 "nbformat_minor": 2
}
